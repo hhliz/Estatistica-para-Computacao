{
  "nbformat": 4,
  "nbformat_minor": 0,
  "metadata": {
    "colab": {
      "name": "aula1-probabilidades.ipynb",
      "provenance": [],
      "collapsed_sections": []
    },
    "kernelspec": {
      "name": "python3",
      "display_name": "Python 3"
    }
  },
  "cells": [
    {
      "cell_type": "code",
      "metadata": {
        "colab": {
          "base_uri": "https://localhost:8080/"
        },
        "id": "wi3fJivsBIMA",
        "outputId": "b5f901c8-f4ef-46ee-d495-bda77edee424"
      },
      "source": [
        "import numpy as np\n",
        "p=0.5 #probabilidade de sair cara\n",
        "nsim=20 #numero de experimentos\n",
        "ncaras= 0 # numero de caras obtidas\n",
        "saida=[] #armacena as saidas (cara 1 e coroa  0)\n",
        "for i in range(0, nsim):\n",
        "  if (np.random.uniform() < p):  # é menor que p (cara)\n",
        "    ncaras=ncaras+1  #incr contador de caras\n",
        "    saida.append(1)\n",
        "  else: \n",
        "     saida.append(0)\n",
        "\n",
        "print(\"saida:\", saida)\n",
        "print(\"frequencia de caras:\", ncaras/nsim)"
      ],
      "execution_count": 4,
      "outputs": [
        {
          "output_type": "stream",
          "text": [
            "saida: [1, 1, 1, 0, 0, 1, 1, 1, 0, 0, 1, 0, 0, 1, 1, 1, 0, 1, 0, 0]\n",
            "frequencia de caras: 0.55\n"
          ],
          "name": "stdout"
        }
      ]
    }
  ]
}